{
  "nbformat": 4,
  "nbformat_minor": 0,
  "metadata": {
    "colab": {
      "name": "Area.ipynb",
      "provenance": [],
      "private_outputs": true,
      "include_colab_link": true
    },
    "kernelspec": {
      "name": "python3",
      "display_name": "Python 3"
    }
  },
  "cells": [
    {
      "cell_type": "markdown",
      "metadata": {
        "id": "view-in-github",
        "colab_type": "text"
      },
      "source": [
        "<a href=\"https://colab.research.google.com/github/rijhkllll/FIrstOne4/blob/master/Area.ipynb\" target=\"_parent\"><img src=\"https://colab.research.google.com/assets/colab-badge.svg\" alt=\"Open In Colab\"/></a>"
      ]
    },
    {
      "cell_type": "code",
      "metadata": {
        "id": "mBjXaN8v4WmC",
        "colab_type": "code",
        "colab": {}
      },
      "source": [
        ""
      ],
      "execution_count": 0,
      "outputs": []
    },
    {
      "cell_type": "code",
      "metadata": {
        "id": "7Co_MW8x5T1O",
        "colab_type": "code",
        "colab": {}
      },
      "source": [
        ""
      ],
      "execution_count": 0,
      "outputs": []
    },
    {
      "cell_type": "code",
      "metadata": {
        "id": "dZl6lJsmI6Kl",
        "colab_type": "code",
        "colab": {}
      },
      "source": [
        "import random\n",
        "import math  \n",
        "#from random import randint\n",
        "n=1000000\n",
        "sum=0\n",
        "sumsq=0\n",
        "a=0.00\n",
        "b=5.00\n",
        "for x in range(n):\n",
        "  #print(x)\n",
        "  x=random.uniform(a,b)\n",
        "  #print(\"Printing random integer \", x)\n",
        "  f=25-x**2\n",
        "  sum=sum+math.sqrt((25-x**2))\n",
        "  sumsq=sumsq+(f)\n",
        "\n",
        "\n",
        "result=sum/n\n",
        "sumsq=sumsq/n\n",
        "#print(\"result:\",result)\n",
        "intrgralvalue=(b-a)*result\n",
        "area=4*intrgralvalue\n",
        "#print(\"integral value\",intrgralvalue)\n",
        "print(\"Area\",area)\n",
        "  \n",
        "Error_Estimate=((b-a)/math.sqrt(n))*math.sqrt((sumsq-result**2))\n",
        "print(\"ERROR\",Error_Estimate)\n",
        "\n",
        "\n",
        "\n",
        "import matplotlib.pyplot as plt \n",
        "x = ['10','100','10000','100000']\n",
        "y = [10,24,36,40] \n",
        "plt.bar(x,y,width=0.8)\n",
        "plt.xlabel('n') \n",
        "plt.ylabel('Error ')\n",
        "plt.title('Showing stat') \n",
        "plt.show()\n",
        "\n",
        "  \n",
        "\n"
      ],
      "execution_count": 0,
      "outputs": []
    }
  ]
}