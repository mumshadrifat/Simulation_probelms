{
  "nbformat": 4,
  "nbformat_minor": 0,
  "metadata": {
    "colab": {
      "name": "Flower.ipynb",
      "provenance": [],
      "collapsed_sections": [],
      "include_colab_link": true
    },
    "kernelspec": {
      "name": "python3",
      "display_name": "Python 3"
    },
    "accelerator": "GPU"
  },
  "cells": [
    {
      "cell_type": "markdown",
      "metadata": {
        "id": "view-in-github",
        "colab_type": "text"
      },
      "source": [
        "<a href=\"https://colab.research.google.com/github/rijhkllll/FIrstOne4/blob/master/Flower.ipynb\" target=\"_parent\"><img src=\"https://colab.research.google.com/assets/colab-badge.svg\" alt=\"Open In Colab\"/></a>"
      ]
    },
    {
      "cell_type": "code",
      "metadata": {
        "id": "nvQOy2WeZuyV",
        "colab_type": "code",
        "colab": {}
      },
      "source": [
        "import pathlib\n",
        "import pandas as pd\n",
        "import numpy as np\n",
        "from os import listdir\n",
        "from os.path import join\n",
        "import os\n",
        "import random\n",
        "import cv2\n",
        "class Process:\n",
        "    def __init__(self, data_directory,image_height,image_width):\n",
        "        self.directory = data_directory\n",
        "        self.height= image_height\n",
        "        self.width= image_width\n",
        "        \n",
        "    def ImageProcess(self):\n",
        "        all_image = []\n",
        "        size = self.height,self.width\n",
        "        \n",
        "        data_root = pathlib.Path(self.directory)\n",
        "        folders = os.listdir(data_root)\n",
        "        \n",
        "        all_image_paths = list(data_root.glob('*/*'))\n",
        "        all_image_paths = [str(path) for path in all_image_paths]\n",
        "        random.shuffle(all_image_paths)\n",
        "        \n",
        "        for path in all_image_paths:\n",
        "            img = cv2.imread(path)\n",
        "            #im = cv2.resize(img, None, fx=0.5, fy=0.5)   \n",
        "            im = cv2.resize(img,size)\n",
        "            im =im/ 255.0\n",
        "            all_image.append(im)\n",
        "        \n",
        "        all_image=np.asarray(all_image)\n",
        "            \n",
        "        label_to_index = dict((name, index) for index,name in enumerate(folders))\n",
        "        index_to_label= dict((index,name) for index,name in enumerate(folders))\n",
        "        all_image_labels = [label_to_index[pathlib.Path(path).parent.name] for path in all_image_paths]\n",
        "        all_image_labels=np.asarray(all_image_labels)\n",
        "\n",
        "        return all_image,all_image_labels,index_to_label\n"
      ],
      "execution_count": 0,
      "outputs": []
    },
    {
      "cell_type": "code",
      "metadata": {
        "id": "8lGx80735O6O",
        "colab_type": "code",
        "colab": {}
      },
      "source": [
        ""
      ],
      "execution_count": 0,
      "outputs": []
    },
    {
      "cell_type": "code",
      "metadata": {
        "id": "ZcFsLuvF94dx",
        "colab_type": "code",
        "outputId": "f18d3679-cb47-4e83-8886-fdad5f66aaa7",
        "colab": {
          "base_uri": "https://localhost:8080/",
          "height": 122
        }
      },
      "source": [
        "from google.colab import drive\n",
        "drive.mount('/content/drive')"
      ],
      "execution_count": 0,
      "outputs": [
        {
          "output_type": "stream",
          "text": [
            "Go to this URL in a browser: https://accounts.google.com/o/oauth2/auth?client_id=947318989803-6bn6qk8qdgf4n4g3pfee6491hc0brc4i.apps.googleusercontent.com&redirect_uri=urn%3aietf%3awg%3aoauth%3a2.0%3aoob&response_type=code&scope=email%20https%3a%2f%2fwww.googleapis.com%2fauth%2fdocs.test%20https%3a%2f%2fwww.googleapis.com%2fauth%2fdrive%20https%3a%2f%2fwww.googleapis.com%2fauth%2fdrive.photos.readonly%20https%3a%2f%2fwww.googleapis.com%2fauth%2fpeopleapi.readonly\n",
            "\n",
            "Enter your authorization code:\n",
            "··········\n",
            "Mounted at /content/drive\n"
          ],
          "name": "stdout"
        }
      ]
    },
    {
      "cell_type": "code",
      "metadata": {
        "id": "2Y7EAubaZ460",
        "colab_type": "code",
        "colab": {}
      },
      "source": [
        ""
      ],
      "execution_count": 0,
      "outputs": []
    },
    {
      "cell_type": "code",
      "metadata": {
        "id": "9xCpWsjYevDr",
        "colab_type": "code",
        "colab": {}
      },
      "source": [
        ""
      ],
      "execution_count": 0,
      "outputs": []
    },
    {
      "cell_type": "code",
      "metadata": {
        "id": "_NJtUaf5e62h",
        "colab_type": "code",
        "colab": {}
      },
      "source": [
        ""
      ],
      "execution_count": 0,
      "outputs": []
    },
    {
      "cell_type": "markdown",
      "metadata": {
        "id": "BGlRYSJLadk3",
        "colab_type": "text"
      },
      "source": [
        ""
      ]
    },
    {
      "cell_type": "code",
      "metadata": {
        "id": "VufOakepaess",
        "colab_type": "code",
        "outputId": "c2604fb4-d284-40c3-9d0a-0defc55bab0e",
        "colab": {
          "base_uri": "https://localhost:8080/",
          "height": 97
        }
      },
      "source": [
        "\n",
        "from __future__ import absolute_import, division, print_function, unicode_literals\n",
        "import tensorflow as tf\n",
        "import pathlib\n",
        "import random\n",
        "import keras\n",
        "import matplotlib.pyplot as plt\n",
        "import seaborn as sns\n",
        "import pandas as pd\n",
        "import numpy as np\n",
        "from os import listdir\n",
        "from os.path import join\n",
        "import cv2\n",
        "import pandas\n",
        "import os\n",
        "import datetime\n",
        "from keras import utils as np_utils\n",
        "from keras.preprocessing.image import ImageDataGenerator\n",
        "\n",
        "\n",
        "\n",
        "\n",
        "class ShowData:\n",
        "    def __init__(self, train_images,train_label,test_images,test_lebel,index_to_label):\n",
        "        self.train_images = train_images\n",
        "        self.train_label= train_label\n",
        "        self.test_images= test_images\n",
        "        self.test_lebel=test_lebel\n",
        "        self.index_to_label=index_to_label\n",
        "        \n",
        "    def checkTrainData(self):\n",
        "        plt.figure(figsize=(20,20))\n",
        "        for i in range(5):\n",
        "            plt.subplot(5,5,i+1)\n",
        "            plt.xticks([])\n",
        "            plt.yticks([])\n",
        "            plt.grid(False)\n",
        "            plt.imshow(self.train_images[i], cmap=plt.cm.binary)\n",
        "            plt.xlabel(self.index_to_label[self.train_label[i]])\n",
        "        plt.show()\n",
        "        \n",
        "    def TestingData(self,predictions,index_to_label):\n",
        "        plt.figure(figsize=(10,10))\n",
        "        for i in range(25):\n",
        "            plt.subplot(5,5,i+1)\n",
        "            plt.xticks([])\n",
        "            plt.yticks([])\n",
        "            plt.grid(False)\n",
        "            plt.imshow(self.test_images[i], cmap=plt.cm.binary)\n",
        "            plt.xlabel(index_to_label[np.argmax(predictions[i])])\n",
        "            plt.ylabel(index_to_label[self.test_lebel[i]])\n",
        "        plt.show()\n"
      ],
      "execution_count": 2,
      "outputs": [
        {
          "output_type": "display_data",
          "data": {
            "text/html": [
              "<p style=\"color: red;\">\n",
              "The default version of TensorFlow in Colab will soon switch to TensorFlow 2.x.<br>\n",
              "We recommend you <a href=\"https://www.tensorflow.org/guide/migrate\" target=\"_blank\">upgrade</a> now \n",
              "or ensure your notebook will continue to use TensorFlow 1.x via the <code>%tensorflow_version 1.x</code> magic:\n",
              "<a href=\"https://colab.research.google.com/notebooks/tensorflow_version.ipynb\" target=\"_blank\">more info</a>.</p>\n"
            ],
            "text/plain": [
              "<IPython.core.display.HTML object>"
            ]
          },
          "metadata": {
            "tags": []
          }
        },
        {
          "output_type": "stream",
          "text": [
            "Using TensorFlow backend.\n"
          ],
          "name": "stderr"
        }
      ]
    },
    {
      "cell_type": "code",
      "metadata": {
        "id": "x5hUQcwcb9Hy",
        "colab_type": "code",
        "colab": {}
      },
      "source": [
        "from __future__ import absolute_import, division, print_function, unicode_literals\n",
        "#from Preprocess import Process\n",
        "#from TestData import ShowData\n",
        "import tensorflow as tf\n",
        "import pathlib\n",
        "import random\n",
        "import keras\n",
        "import matplotlib.pyplot as plt\n",
        "import seaborn as sns\n",
        "import pandas as pd\n",
        "import numpy as np\n",
        "from os import listdir\n",
        "from os.path import join\n",
        "import cv2\n",
        "import pandas\n",
        "import os\n",
        "import datetime\n",
        "from keras import utils as np_utils\n",
        "from keras.preprocessing.image import ImageDataGenerator"
      ],
      "execution_count": 0,
      "outputs": []
    },
    {
      "cell_type": "code",
      "metadata": {
        "id": "MBXh2ffngGFu",
        "colab_type": "code",
        "colab": {}
      },
      "source": [
        "#process= Process(path,height,width)\n",
        "!ls \"drive/My Drive/flowers/data/flower_photos/daisy\""
      ],
      "execution_count": 0,
      "outputs": []
    },
    {
      "cell_type": "code",
      "metadata": {
        "id": "nANG_qFfgL5R",
        "colab_type": "code",
        "colab": {}
      },
      "source": [
        "#img = cv2.imread(\"drive/My Drive/flowers/data/flower_photos/daisy/3456403987_5bd5fa6ece_n.jpg\")\n",
        "#im = cv2.resize(img,(224,224))"
      ],
      "execution_count": 0,
      "outputs": []
    },
    {
      "cell_type": "code",
      "metadata": {
        "colab_type": "code",
        "id": "s7n8JO9IMjIr",
        "colab": {}
      },
      "source": [
        "all_image = []\n",
        "size = 224,224\n",
        "\n",
        "data_root = pathlib.Path(\"drive/My Drive/flowers/data/flower_photos/flowers\")\n",
        "folders = os.listdir(data_root)\n",
        "\n",
        "all_image_paths = list(data_root.glob('*/*'))\n",
        "all_image_paths = [str(path) for path in all_image_paths]\n",
        "random.shuffle(all_image_paths)\n",
        "\n",
        "for path in all_image_paths:\n",
        "    all_image.append(path)"
      ],
      "execution_count": 0,
      "outputs": []
    },
    {
      "cell_type": "code",
      "metadata": {
        "id": "dGrwQSn8Cpi5",
        "colab_type": "code",
        "colab": {}
      },
      "source": [
        "all_image1 = []\n",
        "for i in all_image:\n",
        "  if (len(i)>0):\n",
        "    img = cv2.imread(path)\n",
        "    #im = cv2.resize(img, None, fx=0.5, fy=0.5)   \n",
        "    im = cv2.resize(img,(224,224))\n",
        "    #print(im)\n",
        "    im =im/ 255.0\n",
        "    all_image1.append(im)\n",
        "\n",
        "all_image1=np.asarray(all_image1)\n",
        "    \n",
        "label_to_index = dict((name, index) for index,name in enumerate(folders))\n",
        "index_to_label= dict((index,name) for index,name in enumerate(folders))\n",
        "all_image_labels = [label_to_index[pathlib.Path(path).parent.name] for path in all_image_paths]\n",
        "all_image_labels=np.asarray(all_image_labels)\n"
      ],
      "execution_count": 0,
      "outputs": []
    },
    {
      "cell_type": "code",
      "metadata": {
        "id": "2DhfIxiGft5l",
        "colab_type": "code",
        "colab": {}
      },
      "source": [
        "# path=\"drive/My Drive/flowers/data/flower_photos\"\n",
        "# checkpoint_path = \"training_3/cp.ckpt\"\n",
        "# height=224\n",
        "# width=224\n",
        "# base_learning_rate=0.0001"
      ],
      "execution_count": 0,
      "outputs": []
    },
    {
      "cell_type": "code",
      "metadata": {
        "id": "Ggxxa0bo0xsV",
        "colab_type": "code",
        "colab": {}
      },
      "source": [
        ""
      ],
      "execution_count": 0,
      "outputs": []
    },
    {
      "cell_type": "code",
      "metadata": {
        "id": "X-CYOW-mhoHL",
        "colab_type": "code",
        "colab": {}
      },
      "source": [
        "train_images= all_image1[:3000]\n",
        "train_label= all_image_labels[:3000]\n",
        "test_images= all_image1[3000:3300]\n",
        "test_lebel=all_image_labels[3000:3300]\n",
        "val_images= all_image1[3300:]\n",
        "val_label=all_image_labels[3300:]\n",
        "# from sklearn.model_selection import train_test_split\n",
        "# train_images,train_label,test_images, test_label = train_test_split(images, labels, test_size=0.01,random_state=10)"
      ],
      "execution_count": 0,
      "outputs": []
    },
    {
      "cell_type": "code",
      "metadata": {
        "id": "xbpISFoBiLAa",
        "colab_type": "code",
        "outputId": "76f40f91-44ea-4dd1-e6ce-6c5b7be1f74f",
        "colab": {
          "base_uri": "https://localhost:8080/",
          "height": 54
        }
      },
      "source": [
        "print(\"train_shape: {}, Train_labels: {},test_image_shape: {}, test_labels: {},validation_image_shape: {}, validation_labels: {}\".format(train_images.shape,train_label.shape,test_images.shape, test_lebel.shape,val_images.shape,val_label.shape ))"
      ],
      "execution_count": 7,
      "outputs": [
        {
          "output_type": "stream",
          "text": [
            "train_shape: (3000, 224, 224, 3), Train_labels: (3000,),test_image_shape: (300, 224, 224, 3), test_labels: (300,),validation_image_shape: (1026, 224, 224, 3), validation_labels: (1026,)\n"
          ],
          "name": "stdout"
        }
      ]
    },
    {
      "cell_type": "code",
      "metadata": {
        "id": "xwXXdxMZm5si",
        "colab_type": "code",
        "outputId": "aca2aac8-ed28-45d8-962b-f00f4f8c7e06",
        "colab": {
          "base_uri": "https://localhost:8080/",
          "height": 252
        }
      },
      "source": [
        "showData=ShowData(train_images,train_label,test_images,test_lebel,index_to_label)\n",
        "showData.checkTrainData()"
      ],
      "execution_count": 9,
      "outputs": [
        {
          "output_type": "display_data",
          "data": {
            "image/png": "[encoded data removed]",
            "text/plain": [
              "<Figure size 1440x1440 with 5 Axes>"
            ]
          },
          "metadata": {
            "tags": []
          }
        }
      ]
    },
    {
      "cell_type": "code",
      "metadata": {
        "id": "qM3sE2dYoSWn",
        "colab_type": "code",
        "outputId": "b2809325-0087-438e-ab34-f888d94e7e89",
        "colab": {
          "base_uri": "https://localhost:8080/",
          "height": 394
        }
      },
      "source": [
        "VGG=tf.keras.applications.VGG16(input_shape=(224,224,3),include_top=False)\n",
        "VGG.trainable=False\n",
        "\n",
        "model = tf.keras.Sequential([\n",
        "  VGG,\n",
        "  tf.keras.layers.GlobalAveragePooling2D(),\n",
        "  tf.keras.layers.Dense(128, activation='relu'),\n",
        "  tf.keras.layers.Dropout(0.2),\n",
        "  tf.keras.layers.Dense(5, activation='softmax')\n",
        "])\n",
        "\n",
        "model.compile(optimizer=tf.keras.optimizers.Adam(lr=0.0001),\n",
        "              loss='sparse_categorical_crossentropy',\n",
        "              metrics=['accuracy'])\n",
        "\n",
        "model.summary()"
      ],
      "execution_count": 8,
      "outputs": [
        {
          "output_type": "stream",
          "text": [
            "WARNING:tensorflow:From /usr/local/lib/python3.6/dist-packages/tensorflow_core/python/ops/resource_variable_ops.py:1630: calling BaseResourceVariable.__init__ (from tensorflow.python.ops.resource_variable_ops) with constraint is deprecated and will be removed in a future version.\n",
            "Instructions for updating:\n",
            "If using Keras pass *_constraint arguments to layers.\n",
            "Model: \"sequential\"\n",
            "_________________________________________________________________\n",
            "Layer (type)                 Output Shape              Param #   \n",
            "=================================================================\n",
            "vgg16 (Model)                (None, 7, 7, 512)         14714688  \n",
            "_________________________________________________________________\n",
            "global_average_pooling2d (Gl (None, 512)               0         \n",
            "_________________________________________________________________\n",
            "dense (Dense)                (None, 128)               65664     \n",
            "_________________________________________________________________\n",
            "dropout (Dropout)            (None, 128)               0         \n",
            "_________________________________________________________________\n",
            "dense_1 (Dense)              (None, 5)                 645       \n",
            "=================================================================\n",
            "Total params: 14,780,997\n",
            "Trainable params: 66,309\n",
            "Non-trainable params: 14,714,688\n",
            "_________________________________________________________________\n"
          ],
          "name": "stdout"
        }
      ]
    },
    {
      "cell_type": "code",
      "metadata": {
        "id": "rvDkA49CoeSa",
        "colab_type": "code",
        "colab": {}
      },
      "source": [
        "datagen = ImageDataGenerator(\n",
        "    featurewise_center=True,\n",
        "    featurewise_std_normalization=True,\n",
        "    rotation_range=20,\n",
        "    width_shift_range=0.2,\n",
        "    height_shift_range=0.2,\n",
        "    horizontal_flip=True)\n",
        "\n",
        "#checkpoint_dir = os.path.dirname(checkpoint_path)\n",
        "\n",
        "# Create checkpoint callback\n",
        "#cp_callback = tf.keras.callbacks.ModelCheckpoint(checkpoint_path,\n",
        "                                             #    save_weights_only=True,\n",
        "                                              #   verbose=1)"
      ],
      "execution_count": 0,
      "outputs": []
    },
    {
      "cell_type": "code",
      "metadata": {
        "id": "UpwesRovojbx",
        "colab_type": "code",
        "colab": {}
      },
      "source": [
        "batch_size=8\n",
        "epochs=300\n"
      ],
      "execution_count": 0,
      "outputs": []
    },
    {
      "cell_type": "code",
      "metadata": {
        "id": "N1sMmArtorkI",
        "colab_type": "code",
        "outputId": "69f2b985-1974-4b02-b781-24bf1e62e107",
        "colab": {
          "base_uri": "https://localhost:8080/",
          "height": 1000
        }
      },
      "source": [
        "datagen.fit(train_images)\n",
        "history=model.fit_generator(datagen.flow(train_images, train_label, batch_size=batch_size),\n",
        "                    steps_per_epoch=len(train_images) / batch_size, epochs=epochs,\n",
        "                    validation_data=(val_images, val_label))"
      ],
      "execution_count": 0,
      "outputs": [
        {
          "output_type": "stream",
          "text": [
            "Epoch 1/300\n",
            "374/375 [============================>.] - ETA: 0s - loss: 1.6344 - acc: 0.2236Epoch 1/300\n",
            "1026/375 [==================================================================================] - 5s 4ms/sample - loss: 1.7013 - acc: 0.2212\n",
            "375/375 [==============================] - 43s 114ms/step - loss: 1.6343 - acc: 0.2237 - val_loss: 1.6176 - val_acc: 0.2212\n",
            "Epoch 2/300\n",
            "374/375 [============================>.] - ETA: 0s - loss: 1.6155 - acc: 0.2293Epoch 1/300\n",
            "1026/375 [==================================================================================] - 4s 4ms/sample - loss: 1.6704 - acc: 0.2212\n",
            "375/375 [==============================] - 38s 101ms/step - loss: 1.6157 - acc: 0.2293 - val_loss: 1.6132 - val_acc: 0.2212\n",
            "Epoch 3/300\n",
            "374/375 [============================>.] - ETA: 0s - loss: 1.6152 - acc: 0.2213Epoch 1/300\n",
            "1026/375 [==================================================================================] - 4s 4ms/sample - loss: 1.6854 - acc: 0.2212\n",
            "375/375 [==============================] - 38s 100ms/step - loss: 1.6151 - acc: 0.2217 - val_loss: 1.6257 - val_acc: 0.2212\n",
            "Epoch 4/300\n",
            "374/375 [============================>.] - ETA: 0s - loss: 1.6176 - acc: 0.2313Epoch 1/300\n",
            "1026/375 [==================================================================================] - 4s 4ms/sample - loss: 1.6483 - acc: 0.2281\n",
            "375/375 [==============================] - 37s 99ms/step - loss: 1.6173 - acc: 0.2320 - val_loss: 1.6066 - val_acc: 0.2281\n",
            "Epoch 5/300\n",
            "374/375 [============================>.] - ETA: 0s - loss: 1.6085 - acc: 0.2353Epoch 1/300\n",
            "1026/375 [==================================================================================] - 4s 4ms/sample - loss: 1.6608 - acc: 0.2281\n",
            "375/375 [==============================] - 36s 96ms/step - loss: 1.6086 - acc: 0.2350 - val_loss: 1.6089 - val_acc: 0.2281\n",
            "Epoch 6/300\n",
            "374/375 [============================>.] - ETA: 0s - loss: 1.6056 - acc: 0.2430Epoch 1/300\n",
            "1026/375 [==================================================================================] - 4s 4ms/sample - loss: 1.6419 - acc: 0.2212\n",
            "375/375 [==============================] - 37s 99ms/step - loss: 1.6058 - acc: 0.2423 - val_loss: 1.6058 - val_acc: 0.2212\n",
            "Epoch 7/300\n",
            "374/375 [============================>.] - ETA: 0s - loss: 1.6035 - acc: 0.2400Epoch 1/300\n",
            "1026/375 [==================================================================================] - 4s 4ms/sample - loss: 1.6673 - acc: 0.2212\n",
            "375/375 [==============================] - 37s 98ms/step - loss: 1.6037 - acc: 0.2400 - val_loss: 1.6152 - val_acc: 0.2212\n",
            "Epoch 8/300\n",
            "374/375 [============================>.] - ETA: 0s - loss: 1.6026 - acc: 0.2313Epoch 1/300\n",
            "1026/375 [==================================================================================] - 4s 4ms/sample - loss: 1.6425 - acc: 0.2212\n",
            "375/375 [==============================] - 37s 98ms/step - loss: 1.6028 - acc: 0.2310 - val_loss: 1.6048 - val_acc: 0.2212\n",
            "Epoch 9/300\n",
            "374/375 [============================>.] - ETA: 0s - loss: 1.6026 - acc: 0.2423Epoch 1/300\n",
            "1026/375 [==================================================================================] - 4s 4ms/sample - loss: 1.6623 - acc: 0.2212\n",
            "375/375 [==============================] - 36s 97ms/step - loss: 1.6027 - acc: 0.2420 - val_loss: 1.6079 - val_acc: 0.2212\n",
            "Epoch 10/300\n",
            "374/375 [============================>.] - ETA: 0s - loss: 1.6008 - acc: 0.2436Epoch 1/300\n",
            "1026/375 [==================================================================================] - 4s 4ms/sample - loss: 1.6690 - acc: 0.2281\n",
            "375/375 [==============================] - 37s 98ms/step - loss: 1.6005 - acc: 0.2440 - val_loss: 1.6094 - val_acc: 0.2281\n",
            "Epoch 11/300\n",
            "374/375 [============================>.] - ETA: 0s - loss: 1.6009 - acc: 0.2436Epoch 1/300\n",
            "1026/375 [==================================================================================] - 4s 4ms/sample - loss: 1.6561 - acc: 0.2212\n",
            "375/375 [==============================] - 37s 98ms/step - loss: 1.6012 - acc: 0.2437 - val_loss: 1.6066 - val_acc: 0.2212\n",
            "Epoch 12/300\n",
            "374/375 [============================>.] - ETA: 0s - loss: 1.6017 - acc: 0.2276Epoch 1/300\n",
            "1026/375 [==================================================================================] - 4s 4ms/sample - loss: 1.6552 - acc: 0.2212\n",
            "375/375 [==============================] - 37s 98ms/step - loss: 1.6015 - acc: 0.2280 - val_loss: 1.6069 - val_acc: 0.2212\n",
            "Epoch 13/300\n",
            "374/375 [============================>.] - ETA: 0s - loss: 1.5998 - acc: 0.2433Epoch 1/300\n",
            "1026/375 [==================================================================================] - 4s 4ms/sample - loss: 1.6474 - acc: 0.2212\n",
            "375/375 [==============================] - 37s 98ms/step - loss: 1.5997 - acc: 0.2437 - val_loss: 1.6057 - val_acc: 0.2212\n",
            "Epoch 14/300\n",
            "374/375 [============================>.] - ETA: 0s - loss: 1.6000 - acc: 0.2463Epoch 1/300\n",
            "1026/375 [==================================================================================] - 4s 4ms/sample - loss: 1.6652 - acc: 0.2212\n",
            "375/375 [==============================] - 37s 98ms/step - loss: 1.6000 - acc: 0.2467 - val_loss: 1.6078 - val_acc: 0.2212\n",
            "Epoch 15/300\n",
            "374/375 [============================>.] - ETA: 0s - loss: 1.6014 - acc: 0.2396Epoch 1/300\n",
            "1026/375 [==================================================================================] - 4s 4ms/sample - loss: 1.6542 - acc: 0.2212\n",
            "375/375 [==============================] - 36s 97ms/step - loss: 1.6016 - acc: 0.2397 - val_loss: 1.6061 - val_acc: 0.2212\n",
            "Epoch 16/300\n",
            "374/375 [============================>.] - ETA: 0s - loss: 1.5972 - acc: 0.2467Epoch 1/300\n",
            "1026/375 [==================================================================================] - 4s 4ms/sample - loss: 1.6420 - acc: 0.2281\n",
            "375/375 [==============================] - 37s 98ms/step - loss: 1.5975 - acc: 0.2463 - val_loss: 1.6056 - val_acc: 0.2281\n",
            "Epoch 17/300\n",
            "374/375 [============================>.] - ETA: 0s - loss: 1.6009 - acc: 0.2376Epoch 1/300\n",
            "1026/375 [==================================================================================] - 4s 4ms/sample - loss: 1.6389 - acc: 0.2281\n",
            "375/375 [==============================] - 37s 98ms/step - loss: 1.6009 - acc: 0.2380 - val_loss: 1.6047 - val_acc: 0.2281\n",
            "Epoch 18/300\n",
            "374/375 [============================>.] - ETA: 0s - loss: 1.6001 - acc: 0.2443Epoch 1/300\n",
            "1026/375 [==================================================================================] - 4s 4ms/sample - loss: 1.6464 - acc: 0.2212\n",
            "375/375 [==============================] - 36s 97ms/step - loss: 1.6000 - acc: 0.2440 - val_loss: 1.6064 - val_acc: 0.2212\n",
            "Epoch 19/300\n",
            "374/375 [============================>.] - ETA: 0s - loss: 1.6012 - acc: 0.2423Epoch 1/300\n",
            "1026/375 [==================================================================================] - 4s 4ms/sample - loss: 1.6609 - acc: 0.2281\n",
            "375/375 [==============================] - 36s 97ms/step - loss: 1.6010 - acc: 0.2427 - val_loss: 1.6075 - val_acc: 0.2281\n",
            "Epoch 20/300\n",
            "374/375 [============================>.] - ETA: 0s - loss: 1.5992 - acc: 0.2510Epoch 1/300\n",
            "1026/375 [==================================================================================] - 4s 4ms/sample - loss: 1.6547 - acc: 0.2281\n",
            "375/375 [==============================] - 36s 97ms/step - loss: 1.5993 - acc: 0.2510 - val_loss: 1.6069 - val_acc: 0.2281\n",
            "Epoch 21/300\n",
            "374/375 [============================>.] - ETA: 0s - loss: 1.5991 - acc: 0.2393Epoch 1/300\n",
            "1026/375 [==================================================================================] - 4s 4ms/sample - loss: 1.6438 - acc: 0.2281\n",
            "375/375 [==============================] - 37s 98ms/step - loss: 1.5989 - acc: 0.2397 - val_loss: 1.6048 - val_acc: 0.2281\n",
            "Epoch 22/300\n",
            "374/375 [============================>.] - ETA: 0s - loss: 1.5983 - acc: 0.2453Epoch 1/300\n",
            "1026/375 [==================================================================================] - 4s 4ms/sample - loss: 1.6577 - acc: 0.2281\n",
            "375/375 [==============================] - 37s 98ms/step - loss: 1.5985 - acc: 0.2447 - val_loss: 1.6066 - val_acc: 0.2281\n",
            "Epoch 23/300\n",
            "374/375 [============================>.] - ETA: 0s - loss: 1.5986 - acc: 0.2440Epoch 1/300\n",
            "1026/375 [==================================================================================] - 4s 4ms/sample - loss: 1.6597 - acc: 0.2281\n",
            "375/375 [==============================] - 37s 98ms/step - loss: 1.5985 - acc: 0.2447 - val_loss: 1.6072 - val_acc: 0.2281\n",
            "Epoch 24/300\n",
            "374/375 [============================>.] - ETA: 0s - loss: 1.5991 - acc: 0.2426Epoch 1/300\n",
            "360/375 [===========================>..] - ETA: 0s - loss: 1.6010 - acc: 0.2472"
          ],
          "name": "stdout"
        }
      ]
    },
    {
      "cell_type": "code",
      "metadata": {
        "id": "dEWLEUnfp0aF",
        "colab_type": "code",
        "outputId": "54d5db33-e35e-4763-e333-4cdbeb8a3a0e",
        "colab": {
          "base_uri": "https://localhost:8080/",
          "height": 51
        }
      },
      "source": [
        "loss,accuracy=model.evaluate(test_images, test_lebel)\n",
        "print(\"Accuracy: {}, Loss: {}\".format((accuracy*100),loss ))\n",
        "predictions = model.predict(test_images)"
      ],
      "execution_count": 0,
      "outputs": [
        {
          "output_type": "stream",
          "text": [
            "\r30/30 [==============================] - 0s 3ms/sample - loss: 1.5914 - acc: 0.2667\n",
            "Accuracy: 26.66666805744171, Loss: 1.5913817882537842\n"
          ],
          "name": "stdout"
        }
      ]
    },
    {
      "cell_type": "code",
      "metadata": {
        "id": "ry87ej9NqAet",
        "colab_type": "code",
        "colab": {}
      },
      "source": [
        "TestingData(predictions,indexToLabel)"
      ],
      "execution_count": 0,
      "outputs": []
    },
    {
      "cell_type": "code",
      "metadata": {
        "id": "1WZ5SsJgqJtt",
        "colab_type": "code",
        "colab": {}
      },
      "source": [
        "def TestingData(predictions,index_to_label):\n",
        "        plt.figure(figsize=(10,10))\n",
        "        for i in range(25):\n",
        "            plt.subplot(5,5,i+1)\n",
        "            plt.xticks([])\n",
        "            plt.yticks([])\n",
        "            plt.grid(False)\n",
        "            plt.imshow(test_images[i], cmap=plt.cm.binary)\n",
        "            plt.xlabel(index_to_label[np.argmax(predictions[i])])\n",
        "            plt.ylabel(index_to_label[test_lebel[i]])\n",
        "        plt.show()"
      ],
      "execution_count": 0,
      "outputs": []
    },
    {
      "cell_type": "code",
      "metadata": {
        "id": "J0NpfLWsqQ0T",
        "colab_type": "code",
        "colab": {}
      },
      "source": [
        "acc = history.history['acc']\n",
        "val_acc = history.history['val_acc']\n",
        "\n",
        "loss = history.history['loss']\n",
        "val_loss = history.history['val_loss']"
      ],
      "execution_count": 0,
      "outputs": []
    },
    {
      "cell_type": "code",
      "metadata": {
        "id": "ELCpOCuNqdX4",
        "colab_type": "code",
        "outputId": "fbc840e8-da5f-42f2-8208-0784edb00382",
        "colab": {
          "base_uri": "https://localhost:8080/",
          "height": 279
        }
      },
      "source": [
        "plt.figure(figsize=(8, 8))\n",
        "plt.subplot(2, 1, 1)\n",
        "plt.plot(acc, label='Training Accuracy')\n",
        "plt.plot(val_acc, label='Validation Accuracy')\n",
        "plt.legend(loc='lower right')\n",
        "plt.ylabel('Accuracy')\n",
        "plt.ylim([min(plt.ylim()),1])\n",
        "plt.title('Training and Validation Accuracy')"
      ],
      "execution_count": 0,
      "outputs": [
        {
          "output_type": "execute_result",
          "data": {
            "text/plain": [
              "Text(0.5, 1.0, 'Training and Validation Accuracy')"
            ]
          },
          "metadata": {
            "tags": []
          },
          "execution_count": 24
        },
        {
          "output_type": "display_data",
          "data": {
            "image/png": "[encoded data removed]",
            "text/plain": [
              "<Figure size 576x576 with 1 Axes>"
            ]
          },
          "metadata": {
            "tags": []
          }
        }
      ]
    },
    {
      "cell_type": "code",
      "metadata": {
        "id": "Vv8sOroAq3uq",
        "colab_type": "code",
        "colab": {}
      },
      "source": [
        "\n",
        "modele=\"model.h5\""
      ],
      "execution_count": 0,
      "outputs": []
    },
    {
      "cell_type": "code",
      "metadata": {
        "id": "C-wbwge7q-YZ",
        "colab_type": "code",
        "colab": {}
      },
      "source": [
        "\n",
        "model.save(modele)"
      ],
      "execution_count": 0,
      "outputs": []
    },
    {
      "cell_type": "code",
      "metadata": {
        "id": "CQHU44K2rDSh",
        "colab_type": "code",
        "colab": {}
      },
      "source": [
        "\n",
        "model.load_weights(checkpoint_path)"
      ],
      "execution_count": 0,
      "outputs": []
    },
    {
      "cell_type": "code",
      "metadata": {
        "id": "CmcNZuJBrPu1",
        "colab_type": "code",
        "outputId": "a075023c-3a5f-401b-9ca8-611906b81a4c",
        "colab": {
          "base_uri": "https://localhost:8080/",
          "height": 51
        }
      },
      "source": [
        "loss,accuracy=model.evaluate(test_images, test_lebel)\n",
        "print(\"Accuracy: {}, Loss: {}\".format((accuracy*100),loss ))\n",
        "predictions = model.predict(test_images)"
      ],
      "execution_count": 0,
      "outputs": [
        {
          "output_type": "stream",
          "text": [
            "\r30/30 [==============================] - 0s 3ms/sample - loss: 1.6300 - acc: 0.2000\n",
            "Accuracy: 20.000000298023224, Loss: 1.6299960613250732\n"
          ],
          "name": "stdout"
        }
      ]
    },
    {
      "cell_type": "code",
      "metadata": {
        "id": "R-KYtLJPrVNl",
        "colab_type": "code",
        "outputId": "a4375098-0322-40fe-9e27-5c92b48f3da9",
        "colab": {
          "base_uri": "https://localhost:8080/",
          "height": 122
        }
      },
      "source": [
        "from google.colab import drive\n",
        "drive.mount('/content/drive')"
      ],
      "execution_count": 0,
      "outputs": [
        {
          "output_type": "stream",
          "text": [
            "Go to this URL in a browser: https://accounts.google.com/o/oauth2/auth?client_id=947318989803-6bn6qk8qdgf4n4g3pfee6491hc0brc4i.apps.googleusercontent.com&redirect_uri=urn%3aietf%3awg%3aoauth%3a2.0%3aoob&response_type=code&scope=email%20https%3a%2f%2fwww.googleapis.com%2fauth%2fdocs.test%20https%3a%2f%2fwww.googleapis.com%2fauth%2fdrive%20https%3a%2f%2fwww.googleapis.com%2fauth%2fdrive.photos.readonly%20https%3a%2f%2fwww.googleapis.com%2fauth%2fpeopleapi.readonly\n",
            "\n",
            "Enter your authorization code:\n",
            "··········\n",
            "Mounted at /content/drive\n"
          ],
          "name": "stdout"
        }
      ]
    }
  ]
}